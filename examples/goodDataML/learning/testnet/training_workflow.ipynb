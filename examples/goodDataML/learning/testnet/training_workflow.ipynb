{
 "cells": [
  {
   "cell_type": "markdown",
   "metadata": {},
   "source": [
    "# Training Workflow"
   ]
  },
  {
   "cell_type": "markdown",
   "metadata": {},
   "source": [
    "Here we show the process of processing a query request.It includes the following steps：\n",
    "    1. Connect DO nodes and MPC nodes.\n",
    "    2. Load model.\n",
    "    3. Train model.\n",
    "    4. return result."
   ]
  },
  {
   "cell_type": "markdown",
   "metadata": {},
   "source": [
    "### Preparation"
   ]
  },
  {
   "cell_type": "markdown",
   "metadata": {},
   "source": [
    "We need start the websocket server workers."
   ]
  },
  {
   "cell_type": "markdown",
   "metadata": {},
   "source": [
    "### Step 1: get info from response"
   ]
  },
  {
   "cell_type": "markdown",
   "metadata": {},
   "source": [
    "
Since we need to show a process for processing queries, we first need to create a structure that contains query information.\n",
    "First import the dependent package"
   ]
  },
  {
   "cell_type": "code",
   "execution_count": 3,
   "metadata": {},
   "outputs": [],
   "source": [
    "import datetime\n",
    "import sys\n",
    "import socket\n",
    "\n",
    "import syft\n",
    "import torch\n",
    "\n",
    "sys.path.append('../../../')\n",
    "from goodDataML.connection.proto import gooddata_data_pb2, gooddata_service_pb2\n",
    "from goodDataML.learning.horizontal.torch_model.testnet_models import Net1\n",
    "from goodDataML.connection.chain import GoodDataChain\n",
    "from goodDataML.learning.testnet.utils import get_nodes_from_query_info\n",
    "from goodDataML.learning.testnet.MNIST_MPC_websocket_parallel import train_model\n",
    "\n",
    "\n",
    "def get_host_ip():\n",
    "    \"\"\"\n",
    "    query native IP\n",
    "    :return: ip\n",
    "    \"\"\"\n",
    "    try:\n",
    "        s = socket.socket(socket.AF_INET, socket.SOCK_DGRAM)\n",
    "        s.connect(('8.8.8.8', 80))\n",
    "        ip = s.getsockname()[0]\n",
    "    finally:\n",
    "        s.close()\n",
    "\n",
    "    return ip\n",
    "\n",
    "\n",
    "def get_query_info_and_nodes_info():\n",
    "    cur_time = str(datetime.date.today())\n",
    "    mock_response = gooddata_service_pb2.GetQueryInfoResponse()\n",
    "    query_info = mock_response.query_info\n",
    "    query_info.uuid = 'uuid ' + cur_time\n",
    "    query_info.content = ('content ' + cur_time).encode('utf8')\n",
    "\n",
    "    query_cluster = mock_response.query_cluster\n",
    "    query_cluster.query_uuid = 'query_cluster.query_uuid ' + cur_time\n",
    "\n",
    "    # MPC nodes\n",
    "    mpc_nodes = query_cluster.mpc_nodes.add()\n",
    "    mpc_nodes.address = get_host_ip()\n",
    "    mpc_nodes.port = \"8779\"\n",
    "\n",
    "    mpc_nodes = query_cluster.mpc_nodes.add()\n",
    "    mpc_nodes.address = get_host_ip()\n",
    "    mpc_nodes.port = \"8780\"\n",
    "\n",
    "    mpc_nodes = query_cluster.mpc_nodes.add()\n",
    "    mpc_nodes.address = get_host_ip()\n",
    "    mpc_nodes.port = \"8781\"\n",
    "\n",
    "    # Compute nodes\n",
    "    do_nodes = query_cluster.do_nodes.add()\n",
    "    do_nodes.address = get_host_ip()\n",
    "    do_nodes.port = \"8777\"\n",
    "\n",
    "    do_nodes = query_cluster.do_nodes.add()\n",
    "    do_nodes.address = get_host_ip()\n",
    "    do_nodes.port = \"8778\"\n",
    "\n",
    "    mock_response.query_info.data_set = 2\n",
    "\n",
    "    return mock_response\n",
    "\n"
   ]
  },
  {
   "cell_type": "code",
   "execution_count": 4,
   "metadata": {},
   "outputs": [
    {
     "name": "stderr",
     "output_type": "stream",
     "text": [
      "WARNING:root:Torch was already hooked... skipping hooking process\n"
     ]
    },
    {
     "name": "stdout",
     "output_type": "stream",
     "text": [
      "data_set =  2\n",
      "12800\n",
      "start time:  11:18:27\n",
      "Epoch 1\n",
      "\n",
      "Test set: Average loss: 0.4901, Accuracy: 8864/10000 (88.6400%)\n",
      "\n",
      "Epoch 2\n",
      "\n",
      "Test set: Average loss: 0.4251, Accuracy: 8970/10000 (89.7000%)\n",
      "\n",
      "Epoch 3\n",
      "\n",
      "Test set: Average loss: 0.3854, Accuracy: 9074/10000 (90.7400%)\n",
      "\n",
      "Epoch 4\n",
      "\n",
      "Test set: Average loss: 0.3748, Accuracy: 9100/10000 (91.0000%)\n",
      "\n",
      "Epoch 5\n",
      "\n",
      "Test set: Average loss: 0.3606, Accuracy: 9120/10000 (91.2000%)\n",
      "\n",
      "end time:  11:41:09\n"
     ]
    }
   ],
   "source": [
    "from syft import VirtualWorker\n",
    "query_info_and_nodes_info = get_query_info_and_nodes_info()\n",
    "model = Net1()\n",
    "\n",
    "hook = syft.TorchHook(torch)\n",
    "compute_nodes = [VirtualWorker(id='worker1', hook=hook), VirtualWorker(id='worker2', hook=hook)]\n",
    "mpc_nodes = [VirtualWorker(id='mpc1', hook=hook),\n",
    "             VirtualWorker(id='mpc2', hook=hook),\n",
    "             VirtualWorker(id='mpc3', hook=hook)]\n",
    "ctx = {\n",
    "            'config1': {'ip': '127.0.0.1', 'port': '80'},\n",
    "            'config2': {'ip': '127.0.0.1', 'port': '8080'},\n",
    "        }\n",
    "\n",
    "chain = GoodDataChain('http://132.232.36.171:8645',\n",
    "                      '980b26e2fa86b5a1ca0e3fd6eafcfd226fb868727522022289287ceb7f328768',\n",
    "                      ctx)\n",
    "query_uuid = \"test_submit_query\"\n",
    "model_trained = train_model(chain,\n",
    "                            query_uuid,\n",
    "                            query_info_and_nodes_info,\n",
    "                            compute_nodes,\n",
    "                            model,\n",
    "                            mpc_nodes)\n",
    "\n",
    "chain.shutdown()"
   ]
  },
  {
   "cell_type": "code",
   "execution_count": null,
   "metadata": {},
   "outputs": [],
   "source": []
  },
  {
   "cell_type": "code",
   "execution_count": null,
   "metadata": {},
   "outputs": [],
   "source": []
  }
 ],
 "metadata": {
  "kernelspec": {
   "display_name": "Python 3",
   "language": "python",
   "name": "python3"
  },
  "language_info": {
   "codemirror_mode": {
    "name": "ipython",
    "version": 3
   },
   "file_extension": ".py",
   "mimetype": "text/x-python",
   "name": "python",
   "nbconvert_exporter": "python",
   "pygments_lexer": "ipython3",
   "version": "3.7.7"
  }
 },
 "nbformat": 4,
 "nbformat_minor": 4
}
